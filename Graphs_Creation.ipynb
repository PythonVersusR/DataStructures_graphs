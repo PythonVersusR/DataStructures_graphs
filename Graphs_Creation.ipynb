{
 "cells": [
  {
   "cell_type": "markdown",
   "metadata": {},
   "source": [
    "<img src=\"https://i.imgur.com/6U6q5jQ.png\"/>\n",
    "\n",
    "\n",
    "\n",
    "\n",
    "\n",
    "\n",
    "\n",
    "# Graphs\n",
    "\n",
    "Let me show you a graph (from [wikipedia](https://en.wikipedia.org/wiki/Graph_(discrete_mathematics))):\n",
    "\n",
    "<img src=\"https://upload.wikimedia.org/wikipedia/commons/thumb/5/5b/6n-graf.svg/440px-6n-graf.svg.png\"/>\n",
    "\n",
    "As you can see, it is simply a representation of two sets:\n",
    "\n",
    "1. A set of **vertices** or **nodes**. In the image above you see the nodes _1_, _2_, _3_, _4_, _5_, and _6_.\n",
    "2. A set of **edges** or **links**. In the image above, the links are connecting pairs of nodes. \n",
    "\n",
    "Altogether, a _graph_ reveals some _relationship_ among the _nodes_. The graph structure will allow us to explore and understand that relationship. \n",
    "\n",
    "## Creating Graphs\n",
    "\n",
    "The graph above can be represented computationally in Python using **networkx**:"
   ]
  },
  {
   "cell_type": "code",
   "execution_count": null,
   "metadata": {},
   "outputs": [],
   "source": [
    "import networkx as nx\n",
    "\n",
    "# create graph\n",
    "G = nx.Graph()\n",
    "\n",
    "# create nodes and edges\n",
    "G.add_edges_from([(1, 2), (1, 5),(2,5),(2,3),(3,4),(4,5),(4,6)])"
   ]
  },
  {
   "cell_type": "markdown",
   "metadata": {},
   "source": [
    "## Basic Elements"
   ]
  },
  {
   "cell_type": "markdown",
   "metadata": {},
   "source": [
    "**G** is the graph:"
   ]
  },
  {
   "cell_type": "code",
   "execution_count": null,
   "metadata": {},
   "outputs": [],
   "source": [
    "#you don't see much...just what it is:\n",
    "G"
   ]
  },
  {
   "cell_type": "code",
   "execution_count": null,
   "metadata": {},
   "outputs": [],
   "source": [
    "# You see nodes\n",
    "G.nodes()"
   ]
  },
  {
   "cell_type": "code",
   "execution_count": null,
   "metadata": {},
   "outputs": [],
   "source": [
    "# You see edges\n",
    "G.edges()"
   ]
  },
  {
   "cell_type": "markdown",
   "metadata": {},
   "source": [
    "## Drawing"
   ]
  },
  {
   "cell_type": "markdown",
   "metadata": {},
   "source": [
    "As you can see, the graph is created by adding pairs of nodes. Once you complete that stage, you can draw the graph:"
   ]
  },
  {
   "cell_type": "code",
   "execution_count": null,
   "metadata": {},
   "outputs": [],
   "source": [
    "# draw\n",
    "nx.draw(G,\n",
    "        with_labels=True,\n",
    "        node_color='white',\n",
    "        edgecolors='black')"
   ]
  },
  {
   "cell_type": "markdown",
   "metadata": {},
   "source": [
    "Notice that the position of the nodes will vary every time you re draw the graph. In fact, drawing a graph can become a challenge by itself when we need to find information via visualization. \n",
    "\n",
    "### Edge directionality\n",
    "\n",
    "The graph we created and drew represented an **undirected** graph, that is, the relationships between a pair of nodes are **symmetric**: the relationships can not represent direction because they are _inherently mutual_ between the nodes. For example, the relationship *to be a neighbor of* is symmetric.\n",
    "\n",
    "The following graph is **directed**:\n",
    "\n",
    "<img src=\"https://upload.wikimedia.org/wikipedia/commons/thumb/2/23/Directed_graph_no_background.svg/340px-Directed_graph_no_background.svg.png\"/>\n"
   ]
  },
  {
   "cell_type": "markdown",
   "metadata": {},
   "source": [
    "You can create this directed graph this way:"
   ]
  },
  {
   "cell_type": "code",
   "execution_count": null,
   "metadata": {},
   "outputs": [],
   "source": [
    "# create graph\n",
    "dG = nx.DiGraph()\n",
    "\n",
    "# create nodes and edges\n",
    "dG.add_edges_from([(1, 2), (1, 3),(3,2),(3,4),(4,3)])\n",
    "\n",
    "# drawing\n",
    "nx.draw(dG,with_labels=True,node_color='white',edgecolors='black')"
   ]
  },
  {
   "cell_type": "markdown",
   "metadata": {},
   "source": [
    "Directed links are also called **arcs**. Notice the _DiGraph_ created represents an **asymmetric** relationship: the relationship a node has with another node does not need to be mutual, but could be (see nodes _3_ and _4_). If the arcs represent **cares for someone**, it shows that the feeling is not reciprocal for most cases in this graph. If a relationship is not mutual, and can only be in one direction, it is called **anti symmetric**.\n",
    "\n",
    "## Attributes\n",
    "\n",
    "Nodes can have attributes:"
   ]
  },
  {
   "cell_type": "code",
   "execution_count": null,
   "metadata": {},
   "outputs": [],
   "source": [
    "# adding attributes\n",
    "dG.nodes[1][\"sex\"]='male'\n",
    "dG.nodes[2][\"sex\"]='male'\n",
    "dG.nodes[3][\"sex\"]='female'\n",
    "dG.nodes[4][\"sex\"]='female'"
   ]
  },
  {
   "cell_type": "code",
   "execution_count": null,
   "metadata": {},
   "outputs": [],
   "source": [
    "# seeing attributes\n",
    "dG.nodes.data()"
   ]
  },
  {
   "cell_type": "markdown",
   "metadata": {},
   "source": [
    "Attributes can serve for some computational purposes, but also help to visually find structures."
   ]
  },
  {
   "cell_type": "code",
   "execution_count": null,
   "metadata": {},
   "outputs": [],
   "source": [
    "# using node attributes\n",
    "\n",
    "colors_for_nodes=['green' if n[1]['sex']=='male' else 'red' for n in dG.nodes.data()]\n",
    "nx.draw(dG,\n",
    "        with_labels=True,\n",
    "        node_color=colors_for_nodes)"
   ]
  },
  {
   "cell_type": "markdown",
   "metadata": {},
   "source": [
    "Of course, edges can have attributes too:"
   ]
  },
  {
   "cell_type": "code",
   "execution_count": null,
   "metadata": {},
   "outputs": [],
   "source": [
    "dG.edges[(1, 2)]['weight']=1\n",
    "dG.edges[(1, 3)]['weight']=3\n",
    "dG.edges[(3, 2)]['weight']=5\n",
    "dG.edges[(3, 4)]['weight']=10\n",
    "dG.edges[(4, 3)]['weight']=0.5"
   ]
  },
  {
   "cell_type": "code",
   "execution_count": null,
   "metadata": {},
   "outputs": [],
   "source": [
    "# see them\n",
    "dG.edges.data()"
   ]
  },
  {
   "cell_type": "markdown",
   "metadata": {},
   "source": [
    "Let me add another attribute conditional on another attribute:"
   ]
  },
  {
   "cell_type": "code",
   "execution_count": null,
   "metadata": {},
   "outputs": [],
   "source": [
    "# all edges will have the attribute color, and everyy edge will have 'black'\n",
    "nx.set_edge_attributes(dG,values='grey',name='color')\n",
    "\n",
    "# updating 'color' attribute:\n",
    "for x in nx.get_edge_attributes(dG,'weight').items(): \n",
    "    if  dG.edges[x[0]]['weight']<1:\n",
    "        dG.edges[x[0]].update({'color': 'magenta'}) "
   ]
  },
  {
   "cell_type": "code",
   "execution_count": null,
   "metadata": {},
   "outputs": [],
   "source": [
    "# see them again\n",
    "dG.edges.data()"
   ]
  },
  {
   "cell_type": "markdown",
   "metadata": {},
   "source": [
    "Let's use edge attributes:"
   ]
  },
  {
   "cell_type": "code",
   "execution_count": null,
   "metadata": {},
   "outputs": [],
   "source": [
    "#notice\n",
    "#Getting some values\n",
    "weight_values = nx.get_edge_attributes(dG,'weight') # recovering 'weights'\n",
    "weight_values"
   ]
  },
  {
   "cell_type": "code",
   "execution_count": null,
   "metadata": {},
   "outputs": [],
   "source": [
    "# use the edge attributes\n",
    "# add labels to edges\n",
    "            \n",
    "pos = nx.spring_layout(dG) # position of the nodes\n",
    "nx.draw(dG,\n",
    "        pos, # using \"position\"\n",
    "        with_labels=True,\n",
    "        node_color=colors_for_nodes)\n",
    "# adding labels\n",
    "final_dG=nx.draw_networkx_edge_labels(dG,pos,edge_labels=weight_values)"
   ]
  },
  {
   "cell_type": "markdown",
   "metadata": {},
   "source": [
    "The color of edges:"
   ]
  },
  {
   "cell_type": "code",
   "execution_count": null,
   "metadata": {},
   "outputs": [],
   "source": [
    "nx.get_edge_attributes(dG,'color') # recovering 'color'"
   ]
  },
  {
   "cell_type": "code",
   "execution_count": null,
   "metadata": {},
   "outputs": [],
   "source": [
    "nx.get_edge_attributes(dG,'color').values()"
   ]
  },
  {
   "cell_type": "code",
   "execution_count": null,
   "metadata": {},
   "outputs": [],
   "source": [
    "# use the edge attributes\n",
    "# add labels to edges\n",
    "# add color to edges\n",
    "\n",
    "edge_colors=nx.get_edge_attributes(dG,'color').values()\n",
    "\n",
    "pos = nx.spring_layout(G) \n",
    "\n",
    "# draw nodes first\n",
    "nx.draw_networkx_nodes(dG,pos,\n",
    "                       node_color=colors_for_nodes)\n",
    "# draw edges\n",
    "nx.draw_networkx_edges(dG, pos,\n",
    "                       edge_color= edge_colors)\n",
    "# draw node labels\n",
    "nx.draw_networkx_labels(dG, pos)\n",
    "\n",
    "final_dG=nx.draw_networkx_edge_labels(dG,pos,\n",
    "                               edge_labels=weight_values)"
   ]
  },
  {
   "cell_type": "code",
   "execution_count": null,
   "metadata": {},
   "outputs": [],
   "source": [
    "# use the edge attributes\n",
    "# add labels to edges\n",
    "# add color to edges\n",
    "# change style of edge\n",
    "            \n",
    "pos = nx.spring_layout(G) # position of the nodes\n",
    "\n",
    "# draw nodes first\n",
    "nx.draw_networkx_nodes(dG,pos,\n",
    "                       node_color=colors_for_nodes)\n",
    "# draw edges\n",
    "nx.draw_networkx_edges(dG, pos,\n",
    "                       edge_color= edge_colors,\n",
    "                       connectionstyle=\"arc3,rad=0.15\" )\n",
    "# draw node labels\n",
    "nx.draw_networkx_labels(dG, pos)\n",
    "\n",
    "final_dG=nx.draw_networkx_edge_labels(dG,pos,label_pos=0.40,\n",
    "                                      edge_labels=weight_values)\n"
   ]
  },
  {
   "cell_type": "markdown",
   "metadata": {},
   "source": [
    "Remember:"
   ]
  },
  {
   "cell_type": "code",
   "execution_count": null,
   "metadata": {},
   "outputs": [],
   "source": [
    "weight_values"
   ]
  },
  {
   "cell_type": "markdown",
   "metadata": {},
   "source": [
    "Notice the use of enumerate:"
   ]
  },
  {
   "cell_type": "code",
   "execution_count": null,
   "metadata": {},
   "outputs": [],
   "source": [
    "[(i,e) for i,e in enumerate(dG.edges.data())]"
   ]
  },
  {
   "cell_type": "code",
   "execution_count": null,
   "metadata": {},
   "outputs": [],
   "source": [
    "{(e[0],e[1]):e[2]['weight'] for i,e in enumerate(dG.edges.data())}"
   ]
  },
  {
   "cell_type": "code",
   "execution_count": null,
   "metadata": {},
   "outputs": [],
   "source": [
    "# use the edge attributes\n",
    "# add labels to edges\n",
    "# add color to edges\n",
    "# change style of edge\n",
    "# coloring edge labels (one at a time)\n",
    "            \n",
    "pos = nx.spring_layout(G) # position of the nodes\n",
    "\n",
    "# draw nodes first\n",
    "nx.draw_networkx_nodes(dG,pos,\n",
    "                       node_color=colors_for_nodes)\n",
    "# draw edges\n",
    "nx.draw_networkx_edges(dG, pos,\n",
    "                       edge_color= edge_colors,\n",
    "                       connectionstyle=\"arc3,rad=0.15\" )\n",
    "# draw node labels\n",
    "nx.draw_networkx_labels(dG, pos)\n",
    "\n",
    "[nx.draw_networkx_edge_labels(dG,pos,edge_labels={(e[0],e[1]):e[2]['weight']},\n",
    "                              font_color=e[2]['color'],label_pos=0.40) for i,e in enumerate(dG.edges.data())]"
   ]
  },
  {
   "cell_type": "code",
   "execution_count": null,
   "metadata": {},
   "outputs": [],
   "source": [
    "# use the edge attributes\n",
    "# NO labels to edges, weight for thickness\n",
    "# add color to edges\n",
    "# change style of edge\n",
    "\n",
    "\n",
    "pos = nx.spring_layout(G) # position of the nodes\n",
    "\n",
    "# draw nodes first\n",
    "nx.draw_networkx_nodes(dG,pos,\n",
    "                       node_color=colors_for_nodes)\n",
    "# draw edges\n",
    "nx.draw_networkx_edges(dG, pos,\n",
    "                       width=list(weight_values.values()),\n",
    "                       edge_color= edge_colors,\n",
    "                       connectionstyle=\"arc3,rad=0.2\" )\n",
    "# draw node labels\n",
    "nx.draw_networkx_labels(dG, pos)\n",
    "\n",
    "[nx.draw_networkx_edge_labels(dG,pos,edge_labels={(e[0],e[1]):e[2]['weight']},\n",
    "                              font_color=e[2]['color'],label_pos=0.40) for i,e in enumerate(dG.edges.data())]"
   ]
  },
  {
   "cell_type": "markdown",
   "metadata": {},
   "source": [
    "## Exporting"
   ]
  },
  {
   "cell_type": "markdown",
   "metadata": {},
   "source": [
    "Network does not recommend its use for complex visualization. So, several times you may want to export your graph to be visualize in Gephi or something similar:"
   ]
  },
  {
   "cell_type": "code",
   "execution_count": null,
   "metadata": {},
   "outputs": [],
   "source": [
    "import os\n",
    "\n",
    "nx.write_graphml(dG, os.path.join(\"data\",\"dG.graphml\"),encoding='utf-8')"
   ]
  },
  {
   "cell_type": "markdown",
   "metadata": {},
   "source": [
    "# Case: Elites in Peru"
   ]
  },
  {
   "cell_type": "markdown",
   "metadata": {},
   "source": [
    "The network we are going to build is based on the relationships studied in this paper:\n",
    "<img src='https://github.com/PythonVersusR/DataStructures_graphs/blob/main/images/paper.png?raw=true' width=\"900\">\n"
   ]
  },
  {
   "cell_type": "markdown",
   "metadata": {},
   "source": [
    "In that paper, Professor Figueroa shows this table, where 1 represents that both nodes (families) appear together at least once in a top company board. Notice the last column is an attribute:"
   ]
  },
  {
   "cell_type": "markdown",
   "metadata": {},
   "source": [
    "<img src=\"https://github.com/PythonVersusR/DataStructures_graphs/blob/main/images/dataRed.png?raw=true\" width=\"900\">\n"
   ]
  },
  {
   "cell_type": "markdown",
   "metadata": {},
   "source": [
    "This is an spreadsheet, representing the information above:"
   ]
  },
  {
   "cell_type": "markdown",
   "metadata": {},
   "source": [
    "<img src=\"https://github.com/PythonVersusR/DataStructures_graphs/blob/main/images/dataExcel.png?raw=true\" width=\"900\">\n"
   ]
  },
  {
   "cell_type": "markdown",
   "metadata": {},
   "source": [
    "Let's use the data from the spreadsheet to prepare our table:"
   ]
  },
  {
   "cell_type": "code",
   "execution_count": null,
   "metadata": {},
   "outputs": [],
   "source": [
    "# reading in (install openpyxl before)\n",
    "\n",
    "import pandas as pd\n",
    "\n",
    "FigueData = pd.read_excel(\"https://github.com/PythonVersusR/DataStructures_graphs/raw/main/data/dataFigueroa.xlsx\",\n",
    "                          index_col=0) #notice!!!!!"
   ]
  },
  {
   "cell_type": "markdown",
   "metadata": {},
   "source": [
    "We got this:"
   ]
  },
  {
   "cell_type": "code",
   "execution_count": null,
   "metadata": {},
   "outputs": [],
   "source": [
    "FigueData.head()"
   ]
  },
  {
   "cell_type": "markdown",
   "metadata": {},
   "source": [
    "As intended, the family appears as the row index (not the first column of data). The family is also the column names:"
   ]
  },
  {
   "cell_type": "code",
   "execution_count": null,
   "metadata": {},
   "outputs": [],
   "source": [
    "FigueData.columns"
   ]
  },
  {
   "cell_type": "markdown",
   "metadata": {},
   "source": [
    "The **adjacency matrix** does not need the attribute column, then:"
   ]
  },
  {
   "cell_type": "code",
   "execution_count": null,
   "metadata": {},
   "outputs": [],
   "source": [
    "varsToDrop=['Multinacional']\n",
    "adjacency=FigueData.drop(varsToDrop,axis=1) \n",
    "\n",
    "#result\n",
    "adjacency"
   ]
  },
  {
   "cell_type": "markdown",
   "metadata": {},
   "source": [
    "It is easy to turn the adjacency matrix into a graph:"
   ]
  },
  {
   "cell_type": "code",
   "execution_count": null,
   "metadata": {},
   "outputs": [],
   "source": [
    "EliteNet = nx.from_pandas_adjacency(adjacency)"
   ]
  },
  {
   "cell_type": "markdown",
   "metadata": {},
   "source": [
    "Take a look at **EliteNet**:"
   ]
  },
  {
   "cell_type": "code",
   "execution_count": null,
   "metadata": {},
   "outputs": [],
   "source": [
    "# nodes:\n",
    "len(EliteNet)"
   ]
  },
  {
   "cell_type": "code",
   "execution_count": null,
   "metadata": {},
   "outputs": [],
   "source": [
    "# edges:\n",
    "EliteNet.size()"
   ]
  },
  {
   "cell_type": "code",
   "execution_count": null,
   "metadata": {},
   "outputs": [],
   "source": [
    "# plot\n",
    "nx.draw_random(EliteNet,\n",
    "                node_color='yellow',\n",
    "                edge_color='lightblue',\n",
    "                with_labels=True,\n",
    "                font_size=8)"
   ]
  },
  {
   "cell_type": "markdown",
   "metadata": {},
   "source": [
    "The adjacency include the self-relationships, we should take those away:"
   ]
  },
  {
   "cell_type": "code",
   "execution_count": null,
   "metadata": {},
   "outputs": [],
   "source": [
    "EliteNet.remove_edges_from(nx.selfloop_edges(EliteNet))"
   ]
  },
  {
   "cell_type": "code",
   "execution_count": null,
   "metadata": {},
   "outputs": [],
   "source": [
    "# re plot\n",
    "nx.draw_random(EliteNet,\n",
    "                node_color='yellow',\n",
    "                edge_color='lightblue',\n",
    "                with_labels=True,\n",
    "                font_size=8)"
   ]
  },
  {
   "cell_type": "markdown",
   "metadata": {},
   "source": [
    "Let's add the attributes to the nodes:"
   ]
  },
  {
   "cell_type": "code",
   "execution_count": null,
   "metadata": {},
   "outputs": [],
   "source": [
    "FigueData['Multinacional'].head()"
   ]
  },
  {
   "cell_type": "markdown",
   "metadata": {},
   "source": [
    "Currently:"
   ]
  },
  {
   "cell_type": "code",
   "execution_count": null,
   "metadata": {},
   "outputs": [],
   "source": [
    "# no attribute:\n",
    "EliteNet.nodes.data()"
   ]
  },
  {
   "cell_type": "markdown",
   "metadata": {},
   "source": [
    "Let me prepare a dictionary:"
   ]
  },
  {
   "cell_type": "code",
   "execution_count": null,
   "metadata": {},
   "outputs": [],
   "source": [
    "dict(zip(FigueData.index,FigueData['Multinacional']))"
   ]
  },
  {
   "cell_type": "markdown",
   "metadata": {},
   "source": [
    "Then, I can use that to add an attribute to the node:"
   ]
  },
  {
   "cell_type": "code",
   "execution_count": null,
   "metadata": {},
   "outputs": [],
   "source": [
    "attributeToAdd=dict(zip(FigueData.index,FigueData['Multinacional']))\n",
    "nx.set_node_attributes(EliteNet, attributeToAdd,'multi')"
   ]
  },
  {
   "cell_type": "markdown",
   "metadata": {},
   "source": [
    "Updated nodes:"
   ]
  },
  {
   "cell_type": "code",
   "execution_count": null,
   "metadata": {},
   "outputs": [],
   "source": [
    "EliteNet.nodes.data()"
   ]
  },
  {
   "cell_type": "code",
   "execution_count": null,
   "metadata": {},
   "outputs": [],
   "source": [
    "# using node attributes\n",
    "\n",
    "colors_for_nodes=['green' if n[1]['multi']==1 else 'red' for n in EliteNet.nodes.data()]\n",
    "nx.draw_random(EliteNet,\n",
    "        with_labels=True,\n",
    "        node_color=colors_for_nodes)"
   ]
  },
  {
   "cell_type": "code",
   "execution_count": null,
   "metadata": {},
   "outputs": [],
   "source": [
    "nx.draw_circular(EliteNet,\n",
    "        with_labels=True,\n",
    "        node_color=colors_for_nodes)"
   ]
  },
  {
   "cell_type": "markdown",
   "metadata": {},
   "source": [
    "Let's export this graph:"
   ]
  },
  {
   "cell_type": "code",
   "execution_count": null,
   "metadata": {},
   "outputs": [],
   "source": [
    "import os\n",
    "nx.write_graphml(EliteNet, os.path.join(\"data\",\"EliteNet.graphml\"),encoding='utf-8')"
   ]
  }
 ],
 "metadata": {
  "hide_input": false,
  "kernelspec": {
   "display_name": "Python 3 (ipykernel)",
   "language": "python",
   "name": "python3"
  },
  "language_info": {
   "codemirror_mode": {
    "name": "ipython",
    "version": 3
   },
   "file_extension": ".py",
   "mimetype": "text/x-python",
   "name": "python",
   "nbconvert_exporter": "python",
   "pygments_lexer": "ipython3",
   "version": "3.12.0"
  }
 },
 "nbformat": 4,
 "nbformat_minor": 4
}
